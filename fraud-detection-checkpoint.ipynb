{
 "cells": [
  {
   "cell_type": "markdown",
   "metadata": {},
   "source": [
    "### About the Dataset\n",
    "#### step - is 1 hour of time. Total steps 744 (30 days simulation).\n",
    "#### type - CASH-IN, CASH-OUT, DEBIT, PAYMENT and TRANSFER.\n",
    "#### amount - amount of the transaction in local currency.\n",
    "#### nameOrig - customer who started the transaction\n",
    "#### oldbalanceOrg - initial balance before the transaction\n",
    "#### newbalanceOrig - new balance after the transaction\n",
    "#### nameDest - customer who is the recipient of the transaction\n",
    "#### oldbalanceDest - initial balance recipient before the transaction. Note that there is not information for customers that start with M (Merchants).\n",
    "#### newbalanceDest - new balance recipient after the transaction. Note that there is not information for customers that start with M (Merchants).\n",
    "#### isFraud - This is the transactions made by the fraudulent agents inside the simulation. In this specific dataset the fraudulent behavior of the agents aims to profit by taking control or customers accounts and try to empty the funds by transferring to another account and then cashing out of the system.\n",
    "#### isFlaggedFraud - The business model aims to control massive transfers from one account to another and flags illegal attempts. An illegal attempt in this dataset is an attempt to transfer more than 200.000 in a single transaction."
   ]
  },
  {
   "cell_type": "markdown",
   "metadata": {},
   "source": [
    "### Insert all the Libraries"
   ]
  },
  {
   "cell_type": "code",
   "execution_count": 1,
   "metadata": {
    "_cell_guid": "b1076dfc-b9ad-4769-8c92-a6c4dae69d19",
    "_uuid": "8f2839f25d086af736a60e9eeb907d3b93b6e0e5",
    "execution": {
     "iopub.execute_input": "2024-08-10T06:38:42.996952Z",
     "iopub.status.busy": "2024-08-10T06:38:42.996460Z",
     "iopub.status.idle": "2024-08-10T06:38:43.006954Z",
     "shell.execute_reply": "2024-08-10T06:38:43.005453Z",
     "shell.execute_reply.started": "2024-08-10T06:38:42.996914Z"
    }
   },
   "outputs": [],
   "source": [
    "import numpy as np\n",
    "import pandas as pd\n",
    "import matplotlib.pyplot as plt\n",
    "import seaborn as sns\n",
    "%matplotlib inline\n",
    "from sklearn.model_selection import train_test_split, cross_val_score\n",
    "from sklearn.preprocessing import LabelEncoder,MinMaxScaler\n",
    "from sklearn.linear_model import LogisticRegression\n",
    "from sklearn.metrics import accuracy_score\n",
    "from sklearn.neighbors import KNeighborsClassifier\n",
    "from sklearn.svm import SVC\n",
    "import tensorflow as tf"
   ]
  },
  {
   "cell_type": "markdown",
   "metadata": {},
   "source": [
    "### Import the data set"
   ]
  },
  {
   "cell_type": "code",
   "execution_count": 2,
   "metadata": {
    "execution": {
     "iopub.execute_input": "2024-08-10T06:38:43.012075Z",
     "iopub.status.busy": "2024-08-10T06:38:43.011641Z",
     "iopub.status.idle": "2024-08-10T06:39:00.326831Z",
     "shell.execute_reply": "2024-08-10T06:39:00.325768Z",
     "shell.execute_reply.started": "2024-08-10T06:38:43.012042Z"
    }
   },
   "outputs": [],
   "source": [
    "df = pd.read_csv('Fraud.csv')"
   ]
  },
  {
   "cell_type": "code",
   "execution_count": 3,
   "metadata": {
    "execution": {
     "iopub.execute_input": "2024-08-10T06:39:00.329762Z",
     "iopub.status.busy": "2024-08-10T06:39:00.329290Z",
     "iopub.status.idle": "2024-08-10T06:39:00.351410Z",
     "shell.execute_reply": "2024-08-10T06:39:00.349974Z",
     "shell.execute_reply.started": "2024-08-10T06:39:00.329712Z"
    }
   },
   "outputs": [
    {
     "data": {
      "text/html": [
       "<div>\n",
       "<style scoped>\n",
       "    .dataframe tbody tr th:only-of-type {\n",
       "        vertical-align: middle;\n",
       "    }\n",
       "\n",
       "    .dataframe tbody tr th {\n",
       "        vertical-align: top;\n",
       "    }\n",
       "\n",
       "    .dataframe thead th {\n",
       "        text-align: right;\n",
       "    }\n",
       "</style>\n",
       "<table border=\"1\" class=\"dataframe\">\n",
       "  <thead>\n",
       "    <tr style=\"text-align: right;\">\n",
       "      <th></th>\n",
       "      <th>step</th>\n",
       "      <th>type</th>\n",
       "      <th>amount</th>\n",
       "      <th>nameOrig</th>\n",
       "      <th>oldbalanceOrg</th>\n",
       "      <th>newbalanceOrig</th>\n",
       "      <th>nameDest</th>\n",
       "      <th>oldbalanceDest</th>\n",
       "      <th>newbalanceDest</th>\n",
       "      <th>isFraud</th>\n",
       "      <th>isFlaggedFraud</th>\n",
       "    </tr>\n",
       "  </thead>\n",
       "  <tbody>\n",
       "    <tr>\n",
       "      <th>0</th>\n",
       "      <td>1</td>\n",
       "      <td>PAYMENT</td>\n",
       "      <td>9839.64</td>\n",
       "      <td>C1231006815</td>\n",
       "      <td>170136.0</td>\n",
       "      <td>160296.36</td>\n",
       "      <td>M1979787155</td>\n",
       "      <td>0.0</td>\n",
       "      <td>0.0</td>\n",
       "      <td>0</td>\n",
       "      <td>0</td>\n",
       "    </tr>\n",
       "    <tr>\n",
       "      <th>1</th>\n",
       "      <td>1</td>\n",
       "      <td>PAYMENT</td>\n",
       "      <td>1864.28</td>\n",
       "      <td>C1666544295</td>\n",
       "      <td>21249.0</td>\n",
       "      <td>19384.72</td>\n",
       "      <td>M2044282225</td>\n",
       "      <td>0.0</td>\n",
       "      <td>0.0</td>\n",
       "      <td>0</td>\n",
       "      <td>0</td>\n",
       "    </tr>\n",
       "    <tr>\n",
       "      <th>2</th>\n",
       "      <td>1</td>\n",
       "      <td>TRANSFER</td>\n",
       "      <td>181.00</td>\n",
       "      <td>C1305486145</td>\n",
       "      <td>181.0</td>\n",
       "      <td>0.00</td>\n",
       "      <td>C553264065</td>\n",
       "      <td>0.0</td>\n",
       "      <td>0.0</td>\n",
       "      <td>1</td>\n",
       "      <td>0</td>\n",
       "    </tr>\n",
       "    <tr>\n",
       "      <th>3</th>\n",
       "      <td>1</td>\n",
       "      <td>CASH_OUT</td>\n",
       "      <td>181.00</td>\n",
       "      <td>C840083671</td>\n",
       "      <td>181.0</td>\n",
       "      <td>0.00</td>\n",
       "      <td>C38997010</td>\n",
       "      <td>21182.0</td>\n",
       "      <td>0.0</td>\n",
       "      <td>1</td>\n",
       "      <td>0</td>\n",
       "    </tr>\n",
       "    <tr>\n",
       "      <th>4</th>\n",
       "      <td>1</td>\n",
       "      <td>PAYMENT</td>\n",
       "      <td>11668.14</td>\n",
       "      <td>C2048537720</td>\n",
       "      <td>41554.0</td>\n",
       "      <td>29885.86</td>\n",
       "      <td>M1230701703</td>\n",
       "      <td>0.0</td>\n",
       "      <td>0.0</td>\n",
       "      <td>0</td>\n",
       "      <td>0</td>\n",
       "    </tr>\n",
       "  </tbody>\n",
       "</table>\n",
       "</div>"
      ],
      "text/plain": [
       "   step      type    amount     nameOrig  oldbalanceOrg  newbalanceOrig  \\\n",
       "0     1   PAYMENT   9839.64  C1231006815       170136.0       160296.36   \n",
       "1     1   PAYMENT   1864.28  C1666544295        21249.0        19384.72   \n",
       "2     1  TRANSFER    181.00  C1305486145          181.0            0.00   \n",
       "3     1  CASH_OUT    181.00   C840083671          181.0            0.00   \n",
       "4     1   PAYMENT  11668.14  C2048537720        41554.0        29885.86   \n",
       "\n",
       "      nameDest  oldbalanceDest  newbalanceDest  isFraud  isFlaggedFraud  \n",
       "0  M1979787155             0.0             0.0        0               0  \n",
       "1  M2044282225             0.0             0.0        0               0  \n",
       "2   C553264065             0.0             0.0        1               0  \n",
       "3    C38997010         21182.0             0.0        1               0  \n",
       "4  M1230701703             0.0             0.0        0               0  "
      ]
     },
     "execution_count": 3,
     "metadata": {},
     "output_type": "execute_result"
    }
   ],
   "source": [
    "df.head()"
   ]
  },
  {
   "cell_type": "code",
   "execution_count": 4,
   "metadata": {
    "execution": {
     "iopub.execute_input": "2024-08-10T06:39:00.353543Z",
     "iopub.status.busy": "2024-08-10T06:39:00.353186Z",
     "iopub.status.idle": "2024-08-10T06:39:00.365067Z",
     "shell.execute_reply": "2024-08-10T06:39:00.363663Z",
     "shell.execute_reply.started": "2024-08-10T06:39:00.353514Z"
    }
   },
   "outputs": [
    {
     "data": {
      "text/plain": [
       "(6362620, 11)"
      ]
     },
     "execution_count": 4,
     "metadata": {},
     "output_type": "execute_result"
    }
   ],
   "source": [
    "df.shape"
   ]
  },
  {
   "cell_type": "code",
   "execution_count": 5,
   "metadata": {
    "execution": {
     "iopub.execute_input": "2024-08-10T06:39:00.368282Z",
     "iopub.status.busy": "2024-08-10T06:39:00.367886Z",
     "iopub.status.idle": "2024-08-10T06:39:00.379127Z",
     "shell.execute_reply": "2024-08-10T06:39:00.378011Z",
     "shell.execute_reply.started": "2024-08-10T06:39:00.368239Z"
    }
   },
   "outputs": [
    {
     "data": {
      "text/plain": [
       "Index(['step', 'type', 'amount', 'nameOrig', 'oldbalanceOrg', 'newbalanceOrig',\n",
       "       'nameDest', 'oldbalanceDest', 'newbalanceDest', 'isFraud',\n",
       "       'isFlaggedFraud'],\n",
       "      dtype='object')"
      ]
     },
     "execution_count": 5,
     "metadata": {},
     "output_type": "execute_result"
    }
   ],
   "source": [
    "df.columns"
   ]
  },
  {
   "cell_type": "markdown",
   "metadata": {},
   "source": [
    "### Data Preprocessing"
   ]
  },
  {
   "cell_type": "code",
   "execution_count": 6,
   "metadata": {
    "execution": {
     "iopub.execute_input": "2024-08-10T06:39:00.380650Z",
     "iopub.status.busy": "2024-08-10T06:39:00.380320Z",
     "iopub.status.idle": "2024-08-10T06:39:14.667724Z",
     "shell.execute_reply": "2024-08-10T06:39:14.666532Z",
     "shell.execute_reply.started": "2024-08-10T06:39:00.380597Z"
    }
   },
   "outputs": [],
   "source": [
    "df.drop_duplicates(inplace = True)"
   ]
  },
  {
   "cell_type": "code",
   "execution_count": 7,
   "metadata": {
    "execution": {
     "iopub.execute_input": "2024-08-10T06:39:14.669740Z",
     "iopub.status.busy": "2024-08-10T06:39:14.669287Z",
     "iopub.status.idle": "2024-08-10T06:39:14.682421Z",
     "shell.execute_reply": "2024-08-10T06:39:14.681263Z",
     "shell.execute_reply.started": "2024-08-10T06:39:14.669697Z"
    }
   },
   "outputs": [
    {
     "name": "stdout",
     "output_type": "stream",
     "text": [
      "<class 'pandas.core.frame.DataFrame'>\n",
      "Int64Index: 6362620 entries, 0 to 6362619\n",
      "Data columns (total 11 columns):\n",
      " #   Column          Dtype  \n",
      "---  ------          -----  \n",
      " 0   step            int64  \n",
      " 1   type            object \n",
      " 2   amount          float64\n",
      " 3   nameOrig        object \n",
      " 4   oldbalanceOrg   float64\n",
      " 5   newbalanceOrig  float64\n",
      " 6   nameDest        object \n",
      " 7   oldbalanceDest  float64\n",
      " 8   newbalanceDest  float64\n",
      " 9   isFraud         int64  \n",
      " 10  isFlaggedFraud  int64  \n",
      "dtypes: float64(5), int64(3), object(3)\n",
      "memory usage: 582.5+ MB\n"
     ]
    }
   ],
   "source": [
    "df.info()"
   ]
  },
  {
   "cell_type": "code",
   "execution_count": 8,
   "metadata": {
    "execution": {
     "iopub.execute_input": "2024-08-10T06:39:14.684518Z",
     "iopub.status.busy": "2024-08-10T06:39:14.684160Z",
     "iopub.status.idle": "2024-08-10T06:39:16.874157Z",
     "shell.execute_reply": "2024-08-10T06:39:16.873143Z",
     "shell.execute_reply.started": "2024-08-10T06:39:14.684487Z"
    }
   },
   "outputs": [
    {
     "data": {
      "text/plain": [
       "step              0\n",
       "type              0\n",
       "amount            0\n",
       "nameOrig          0\n",
       "oldbalanceOrg     0\n",
       "newbalanceOrig    0\n",
       "nameDest          0\n",
       "oldbalanceDest    0\n",
       "newbalanceDest    0\n",
       "isFraud           0\n",
       "isFlaggedFraud    0\n",
       "dtype: int64"
      ]
     },
     "execution_count": 8,
     "metadata": {},
     "output_type": "execute_result"
    }
   ],
   "source": [
    "df.isnull().sum()"
   ]
  },
  {
   "cell_type": "code",
   "execution_count": 9,
   "metadata": {
    "execution": {
     "iopub.execute_input": "2024-08-10T06:39:16.875953Z",
     "iopub.status.busy": "2024-08-10T06:39:16.875554Z",
     "iopub.status.idle": "2024-08-10T06:39:27.939228Z",
     "shell.execute_reply": "2024-08-10T06:39:27.937994Z",
     "shell.execute_reply.started": "2024-08-10T06:39:16.875922Z"
    }
   },
   "outputs": [
    {
     "data": {
      "text/plain": [
       "step                  743\n",
       "type                    5\n",
       "amount            5316900\n",
       "nameOrig          6353307\n",
       "oldbalanceOrg     1845844\n",
       "newbalanceOrig    2682586\n",
       "nameDest          2722362\n",
       "oldbalanceDest    3614697\n",
       "newbalanceDest    3555499\n",
       "isFraud                 2\n",
       "isFlaggedFraud          2\n",
       "dtype: int64"
      ]
     },
     "execution_count": 9,
     "metadata": {},
     "output_type": "execute_result"
    }
   ],
   "source": [
    "df.nunique()"
   ]
  },
  {
   "cell_type": "markdown",
   "metadata": {},
   "source": [
    "#### Distribution of Output class"
   ]
  },
  {
   "cell_type": "code",
   "execution_count": 10,
   "metadata": {
    "execution": {
     "iopub.execute_input": "2024-08-10T06:39:27.941311Z",
     "iopub.status.busy": "2024-08-10T06:39:27.940879Z",
     "iopub.status.idle": "2024-08-10T06:39:28.011292Z",
     "shell.execute_reply": "2024-08-10T06:39:28.010144Z",
     "shell.execute_reply.started": "2024-08-10T06:39:27.941270Z"
    }
   },
   "outputs": [
    {
     "data": {
      "text/plain": [
       "0    6354407\n",
       "1       8213\n",
       "Name: isFraud, dtype: int64"
      ]
     },
     "execution_count": 10,
     "metadata": {},
     "output_type": "execute_result"
    }
   ],
   "source": [
    "df.isFraud.value_counts()"
   ]
  },
  {
   "cell_type": "markdown",
   "metadata": {},
   "source": [
    "#### From the above code it is clear that not a fraud class (0) is the maximum and the difference between the counts of individual class is very huge. So what I think we can do is to create two different dataframes based on '0' and '1' of isFraud column and do outlier removal on them, then based on the remaining rows from the dataframe corresponding to '1' class we will sample same number of rows from dataframe corresponding to '0'. In this way we create a sub dataset with equal number of classes '0' and '1'."
   ]
  },
  {
   "cell_type": "code",
   "execution_count": 11,
   "metadata": {},
   "outputs": [
    {
     "data": {
      "text/plain": [
       "<Axes: xlabel='isFraud', ylabel='count'>"
      ]
     },
     "execution_count": 11,
     "metadata": {},
     "output_type": "execute_result"
    },
    {
     "data": {
      "image/png": "[encoded data removed]",
      "text/plain": [
       "<Figure size 640x480 with 1 Axes>"
      ]
     },
     "metadata": {},
     "output_type": "display_data"
    }
   ],
   "source": [
    "sns.countplot(data=df,x=df.isFraud,palette={0: 'Green', 1: 'Red'})"
   ]
  },
  {
   "cell_type": "markdown",
   "metadata": {},
   "source": [
    "#### Distribution of isFlagged column"
   ]
  },
  {
   "cell_type": "code",
   "execution_count": 12,
   "metadata": {
    "execution": {
     "iopub.execute_input": "2024-08-10T06:39:28.017592Z",
     "iopub.status.busy": "2024-08-10T06:39:28.016532Z",
     "iopub.status.idle": "2024-08-10T06:39:28.086589Z",
     "shell.execute_reply": "2024-08-10T06:39:28.085421Z",
     "shell.execute_reply.started": "2024-08-10T06:39:28.017555Z"
    }
   },
   "outputs": [
    {
     "data": {
      "text/plain": [
       "0    6362604\n",
       "1         16\n",
       "Name: isFlaggedFraud, dtype: int64"
      ]
     },
     "execution_count": 12,
     "metadata": {},
     "output_type": "execute_result"
    }
   ],
   "source": [
    "df.isFlaggedFraud.value_counts()"
   ]
  },
  {
   "cell_type": "markdown",
   "metadata": {},
   "source": [
    "#### Distribution of isFraud class '1' based on the type of transaction"
   ]
  },
  {
   "cell_type": "code",
   "execution_count": 13,
   "metadata": {
    "execution": {
     "iopub.execute_input": "2024-08-10T06:39:31.615964Z",
     "iopub.status.busy": "2024-08-10T06:39:31.615521Z",
     "iopub.status.idle": "2024-08-10T06:39:32.306762Z",
     "shell.execute_reply": "2024-08-10T06:39:32.305761Z",
     "shell.execute_reply.started": "2024-08-10T06:39:31.615926Z"
    }
   },
   "outputs": [
    {
     "data": {
      "text/html": [
       "<div>\n",
       "<style scoped>\n",
       "    .dataframe tbody tr th:only-of-type {\n",
       "        vertical-align: middle;\n",
       "    }\n",
       "\n",
       "    .dataframe tbody tr th {\n",
       "        vertical-align: top;\n",
       "    }\n",
       "\n",
       "    .dataframe thead th {\n",
       "        text-align: right;\n",
       "    }\n",
       "</style>\n",
       "<table border=\"1\" class=\"dataframe\">\n",
       "  <thead>\n",
       "    <tr style=\"text-align: right;\">\n",
       "      <th></th>\n",
       "      <th>type</th>\n",
       "      <th>isFraud</th>\n",
       "    </tr>\n",
       "  </thead>\n",
       "  <tbody>\n",
       "    <tr>\n",
       "      <th>0</th>\n",
       "      <td>CASH_IN</td>\n",
       "      <td>0</td>\n",
       "    </tr>\n",
       "    <tr>\n",
       "      <th>1</th>\n",
       "      <td>CASH_OUT</td>\n",
       "      <td>4116</td>\n",
       "    </tr>\n",
       "    <tr>\n",
       "      <th>2</th>\n",
       "      <td>DEBIT</td>\n",
       "      <td>0</td>\n",
       "    </tr>\n",
       "    <tr>\n",
       "      <th>3</th>\n",
       "      <td>PAYMENT</td>\n",
       "      <td>0</td>\n",
       "    </tr>\n",
       "    <tr>\n",
       "      <th>4</th>\n",
       "      <td>TRANSFER</td>\n",
       "      <td>4097</td>\n",
       "    </tr>\n",
       "  </tbody>\n",
       "</table>\n",
       "</div>"
      ],
      "text/plain": [
       "       type  isFraud\n",
       "0   CASH_IN        0\n",
       "1  CASH_OUT     4116\n",
       "2     DEBIT        0\n",
       "3   PAYMENT        0\n",
       "4  TRANSFER     4097"
      ]
     },
     "execution_count": 13,
     "metadata": {},
     "output_type": "execute_result"
    }
   ],
   "source": [
    "based_on_type = df.groupby('type')['isFraud'].sum().reset_index()\n",
    "based_on_type.head()"
   ]
  },
  {
   "cell_type": "markdown",
   "metadata": {},
   "source": [
    "#### The only thing to note from above result is that the from all the transactions that have happened so far we can say that CASH_OUT and TRANSFER has led to fraudlent transactions."
   ]
  },
  {
   "cell_type": "code",
   "execution_count": 14,
   "metadata": {
    "execution": {
     "iopub.execute_input": "2024-08-10T06:39:33.484423Z",
     "iopub.status.busy": "2024-08-10T06:39:33.483401Z",
     "iopub.status.idle": "2024-08-10T06:39:33.637170Z",
     "shell.execute_reply": "2024-08-10T06:39:33.635933Z",
     "shell.execute_reply.started": "2024-08-10T06:39:33.484389Z"
    }
   },
   "outputs": [
    {
     "data": {
      "text/html": [
       "<div>\n",
       "<style scoped>\n",
       "    .dataframe tbody tr th:only-of-type {\n",
       "        vertical-align: middle;\n",
       "    }\n",
       "\n",
       "    .dataframe tbody tr th {\n",
       "        vertical-align: top;\n",
       "    }\n",
       "\n",
       "    .dataframe thead th {\n",
       "        text-align: right;\n",
       "    }\n",
       "</style>\n",
       "<table border=\"1\" class=\"dataframe\">\n",
       "  <thead>\n",
       "    <tr style=\"text-align: right;\">\n",
       "      <th></th>\n",
       "      <th>isFraud</th>\n",
       "      <th>amount</th>\n",
       "    </tr>\n",
       "  </thead>\n",
       "  <tbody>\n",
       "    <tr>\n",
       "      <th>0</th>\n",
       "      <td>0</td>\n",
       "      <td>1.132337e+12</td>\n",
       "    </tr>\n",
       "    <tr>\n",
       "      <th>1</th>\n",
       "      <td>1</td>\n",
       "      <td>1.205642e+10</td>\n",
       "    </tr>\n",
       "  </tbody>\n",
       "</table>\n",
       "</div>"
      ],
      "text/plain": [
       "   isFraud        amount\n",
       "0        0  1.132337e+12\n",
       "1        1  1.205642e+10"
      ]
     },
     "execution_count": 14,
     "metadata": {},
     "output_type": "execute_result"
    }
   ],
   "source": [
    "based_on_amount = df.groupby(\"isFraud\")[\"amount\"].sum().reset_index()\n",
    "based_on_amount"
   ]
  },
  {
   "cell_type": "markdown",
   "metadata": {},
   "source": [
    "#### From the above results it can clearly be seen that, despite fraudelent cases being very less in number the amount that has benn cheated in this transactions sums up to be astronomical"
   ]
  },
  {
   "cell_type": "markdown",
   "metadata": {},
   "source": [
    "### Correlation Checking"
   ]
  },
  {
   "cell_type": "code",
   "execution_count": 15,
   "metadata": {
    "execution": {
     "iopub.execute_input": "2024-08-10T06:39:33.639169Z",
     "iopub.status.busy": "2024-08-10T06:39:33.638733Z",
     "iopub.status.idle": "2024-08-10T06:39:34.888527Z",
     "shell.execute_reply": "2024-08-10T06:39:34.887403Z",
     "shell.execute_reply.started": "2024-08-10T06:39:33.639129Z"
    }
   },
   "outputs": [],
   "source": [
    "correlation = df[['step','amount', 'oldbalanceOrg', 'newbalanceOrig', 'oldbalanceDest', 'newbalanceDest','isFraud']].corr()"
   ]
  },
  {
   "cell_type": "code",
   "execution_count": 16,
   "metadata": {
    "execution": {
     "iopub.execute_input": "2024-08-10T06:39:34.890425Z",
     "iopub.status.busy": "2024-08-10T06:39:34.890064Z",
     "iopub.status.idle": "2024-08-10T06:39:35.434008Z",
     "shell.execute_reply": "2024-08-10T06:39:35.432870Z",
     "shell.execute_reply.started": "2024-08-10T06:39:34.890394Z"
    }
   },
   "outputs": [
    {
     "data": {
      "text/plain": [
       "<Axes: >"
      ]
     },
     "execution_count": 16,
     "metadata": {},
     "output_type": "execute_result"
    },
    {
     "data": {
      "image/png": "[encoded data removed]",
      "text/plain": [
       "<Figure size 640x480 with 2 Axes>"
      ]
     },
     "metadata": {},
     "output_type": "display_data"
    }
   ],
   "source": [
    "sns.heatmap(data=correlation, annot=True)"
   ]
  },
  {
   "cell_type": "markdown",
   "metadata": {},
   "source": [
    "#### From the heatmap it is inferred that there is very high colinearity between oldbalanceOrg and newbalanceOrig, oldbalanceDest and newbalanceDest. Since many users amount in there account tend to be zero after the transaction I have decided to remove newbalanceDest and newbalanceOrig."
   ]
  },
  {
   "cell_type": "code",
   "execution_count": 17,
   "metadata": {
    "execution": {
     "iopub.execute_input": "2024-08-10T06:39:35.435906Z",
     "iopub.status.busy": "2024-08-10T06:39:35.435454Z",
     "iopub.status.idle": "2024-08-10T06:39:35.928234Z",
     "shell.execute_reply": "2024-08-10T06:39:35.927034Z",
     "shell.execute_reply.started": "2024-08-10T06:39:35.435860Z"
    }
   },
   "outputs": [],
   "source": [
    "df.drop(columns = ['newbalanceDest','newbalanceOrig'],axis=1,inplace=True)"
   ]
  },
  {
   "cell_type": "code",
   "execution_count": 18,
   "metadata": {
    "execution": {
     "iopub.execute_input": "2024-08-10T06:39:35.930183Z",
     "iopub.status.busy": "2024-08-10T06:39:35.929798Z",
     "iopub.status.idle": "2024-08-10T06:39:36.672244Z",
     "shell.execute_reply": "2024-08-10T06:39:36.671061Z",
     "shell.execute_reply.started": "2024-08-10T06:39:35.930150Z"
    }
   },
   "outputs": [],
   "source": [
    "correlation = df[['step','amount', 'oldbalanceOrg', 'oldbalanceDest','isFraud']].corr()"
   ]
  },
  {
   "cell_type": "code",
   "execution_count": 19,
   "metadata": {
    "execution": {
     "iopub.execute_input": "2024-08-10T06:39:36.673908Z",
     "iopub.status.busy": "2024-08-10T06:39:36.673555Z",
     "iopub.status.idle": "2024-08-10T06:39:37.108700Z",
     "shell.execute_reply": "2024-08-10T06:39:37.107560Z",
     "shell.execute_reply.started": "2024-08-10T06:39:36.673878Z"
    }
   },
   "outputs": [
    {
     "data": {
      "text/plain": [
       "<Axes: >"
      ]
     },
     "execution_count": 19,
     "metadata": {},
     "output_type": "execute_result"
    },
    {
     "data": {
      "image/png": "[encoded data removed]",
      "text/plain": [
       "<Figure size 640x480 with 2 Axes>"
      ]
     },
     "metadata": {},
     "output_type": "display_data"
    }
   ],
   "source": [
    "sns.heatmap(data=correlation, annot=True)"
   ]
  },
  {
   "cell_type": "markdown",
   "metadata": {},
   "source": [
    "#### Now from the heatmap we can see that there is no colinearity between independent variables"
   ]
  },
  {
   "cell_type": "markdown",
   "metadata": {},
   "source": [
    "### Outliers removal on the basis of the output classes"
   ]
  },
  {
   "cell_type": "code",
   "execution_count": 20,
   "metadata": {
    "execution": {
     "iopub.execute_input": "2024-08-10T06:39:37.111410Z",
     "iopub.status.busy": "2024-08-10T06:39:37.110440Z",
     "iopub.status.idle": "2024-08-10T06:39:37.128545Z",
     "shell.execute_reply": "2024-08-10T06:39:37.127384Z",
     "shell.execute_reply.started": "2024-08-10T06:39:37.111362Z"
    }
   },
   "outputs": [
    {
     "data": {
      "text/plain": [
       "(8213, 9)"
      ]
     },
     "execution_count": 20,
     "metadata": {},
     "output_type": "execute_result"
    }
   ],
   "source": [
    "df_1 = df[df.isFraud==1]\n",
    "df_1.shape"
   ]
  },
  {
   "cell_type": "code",
   "execution_count": 21,
   "metadata": {
    "execution": {
     "iopub.execute_input": "2024-08-10T06:39:37.143477Z",
     "iopub.status.busy": "2024-08-10T06:39:37.143098Z",
     "iopub.status.idle": "2024-08-10T06:39:38.268357Z",
     "shell.execute_reply": "2024-08-10T06:39:38.267265Z",
     "shell.execute_reply.started": "2024-08-10T06:39:37.143447Z"
    }
   },
   "outputs": [
    {
     "data": {
      "image/png": "[encoded data removed]",
      "text/plain": [
       "<Figure size 1500x3000 with 6 Axes>"
      ]
     },
     "metadata": {},
     "output_type": "display_data"
    }
   ],
   "source": [
    "numerical_columns = df_1.select_dtypes(include=['number']).columns\n",
    "\n",
    "# Number of numerical columns\n",
    "num_plots = len(numerical_columns)\n",
    "\n",
    "# Create subplots with enough space for each numerical column\n",
    "plt.figure(figsize=(15, 5 * num_plots))\n",
    "\n",
    "# Plot boxplots for each numerical column\n",
    "for idx, column in enumerate(numerical_columns):\n",
    "    plt.subplot(num_plots, 1, idx + 1)  # Create a subplot for each column\n",
    "    sns.boxplot(data=df_1, x=column)  # Plot the boxplot\n",
    "    plt.title(f'Boxplot for {column}')  # Add a title to each subplot\n",
    "\n",
    "plt.tight_layout()  # Adjust layout to prevent overlap\n",
    "plt.show()  # Show all plots"
   ]
  },
  {
   "cell_type": "code",
   "execution_count": 22,
   "metadata": {
    "execution": {
     "iopub.execute_input": "2024-08-10T06:39:38.270401Z",
     "iopub.status.busy": "2024-08-10T06:39:38.269973Z",
     "iopub.status.idle": "2024-08-10T06:39:38.301394Z",
     "shell.execute_reply": "2024-08-10T06:39:38.300330Z",
     "shell.execute_reply.started": "2024-08-10T06:39:38.270363Z"
    }
   },
   "outputs": [],
   "source": [
    "def remove_outliers_iqr(df):\n",
    "    # Copy the DataFrame to avoid modifying the original data\n",
    "    df_cleaned = df.copy()\n",
    "\n",
    "    # List to store columns that are numerical\n",
    "    numerical_columns = df_cleaned.select_dtypes(include=['number']).columns\n",
    "\n",
    "    # Iterate over each numerical column\n",
    "    for column in numerical_columns:\n",
    "        # Calculate Q1 (25th percentile) and Q3 (75th percentile)\n",
    "        Q1 = df_cleaned[column].quantile(0.25)\n",
    "        Q3 = df_cleaned[column].quantile(0.75)\n",
    "        # Calculate IQR (Interquartile Range)\n",
    "        IQR = Q3 - Q1\n",
    "        # Define bounds for outliers\n",
    "        lower_bound = Q1 - 1.5 * IQR\n",
    "        upper_bound = Q3 + 1.5 * IQR\n",
    "        # Filter out the outliers\n",
    "        df_cleaned = df_cleaned[(df_cleaned[column] >= lower_bound) & (df_cleaned[column] <= upper_bound)]\n",
    "\n",
    "    return df_cleaned\n",
    "\n",
    "# Remove outliers from df_1\n",
    "df_1_cleaned = remove_outliers_iqr(df_1)\n"
   ]
  },
  {
   "cell_type": "code",
   "execution_count": 23,
   "metadata": {
    "execution": {
     "iopub.execute_input": "2024-08-10T06:39:38.303218Z",
     "iopub.status.busy": "2024-08-10T06:39:38.302851Z",
     "iopub.status.idle": "2024-08-10T06:39:38.326966Z",
     "shell.execute_reply": "2024-08-10T06:39:38.325687Z",
     "shell.execute_reply.started": "2024-08-10T06:39:38.303187Z"
    }
   },
   "outputs": [
    {
     "data": {
      "text/html": [
       "<div>\n",
       "<style scoped>\n",
       "    .dataframe tbody tr th:only-of-type {\n",
       "        vertical-align: middle;\n",
       "    }\n",
       "\n",
       "    .dataframe tbody tr th {\n",
       "        vertical-align: top;\n",
       "    }\n",
       "\n",
       "    .dataframe thead th {\n",
       "        text-align: right;\n",
       "    }\n",
       "</style>\n",
       "<table border=\"1\" class=\"dataframe\">\n",
       "  <thead>\n",
       "    <tr style=\"text-align: right;\">\n",
       "      <th></th>\n",
       "      <th>step</th>\n",
       "      <th>type</th>\n",
       "      <th>amount</th>\n",
       "      <th>nameOrig</th>\n",
       "      <th>oldbalanceOrg</th>\n",
       "      <th>nameDest</th>\n",
       "      <th>oldbalanceDest</th>\n",
       "      <th>isFraud</th>\n",
       "      <th>isFlaggedFraud</th>\n",
       "    </tr>\n",
       "  </thead>\n",
       "  <tbody>\n",
       "    <tr>\n",
       "      <th>0</th>\n",
       "      <td>1</td>\n",
       "      <td>TRANSFER</td>\n",
       "      <td>181.00</td>\n",
       "      <td>C1305486145</td>\n",
       "      <td>181.00</td>\n",
       "      <td>C553264065</td>\n",
       "      <td>0.00</td>\n",
       "      <td>1</td>\n",
       "      <td>0</td>\n",
       "    </tr>\n",
       "    <tr>\n",
       "      <th>1</th>\n",
       "      <td>1</td>\n",
       "      <td>CASH_OUT</td>\n",
       "      <td>181.00</td>\n",
       "      <td>C840083671</td>\n",
       "      <td>181.00</td>\n",
       "      <td>C38997010</td>\n",
       "      <td>21182.00</td>\n",
       "      <td>1</td>\n",
       "      <td>0</td>\n",
       "    </tr>\n",
       "    <tr>\n",
       "      <th>2</th>\n",
       "      <td>1</td>\n",
       "      <td>TRANSFER</td>\n",
       "      <td>2806.00</td>\n",
       "      <td>C1420196421</td>\n",
       "      <td>2806.00</td>\n",
       "      <td>C972765878</td>\n",
       "      <td>0.00</td>\n",
       "      <td>1</td>\n",
       "      <td>0</td>\n",
       "    </tr>\n",
       "    <tr>\n",
       "      <th>3</th>\n",
       "      <td>1</td>\n",
       "      <td>CASH_OUT</td>\n",
       "      <td>2806.00</td>\n",
       "      <td>C2101527076</td>\n",
       "      <td>2806.00</td>\n",
       "      <td>C1007251739</td>\n",
       "      <td>26202.00</td>\n",
       "      <td>1</td>\n",
       "      <td>0</td>\n",
       "    </tr>\n",
       "    <tr>\n",
       "      <th>4</th>\n",
       "      <td>1</td>\n",
       "      <td>TRANSFER</td>\n",
       "      <td>20128.00</td>\n",
       "      <td>C137533655</td>\n",
       "      <td>20128.00</td>\n",
       "      <td>C1848415041</td>\n",
       "      <td>0.00</td>\n",
       "      <td>1</td>\n",
       "      <td>0</td>\n",
       "    </tr>\n",
       "    <tr>\n",
       "      <th>...</th>\n",
       "      <td>...</td>\n",
       "      <td>...</td>\n",
       "      <td>...</td>\n",
       "      <td>...</td>\n",
       "      <td>...</td>\n",
       "      <td>...</td>\n",
       "      <td>...</td>\n",
       "      <td>...</td>\n",
       "      <td>...</td>\n",
       "    </tr>\n",
       "    <tr>\n",
       "      <th>5449</th>\n",
       "      <td>742</td>\n",
       "      <td>CASH_OUT</td>\n",
       "      <td>63416.99</td>\n",
       "      <td>C994950684</td>\n",
       "      <td>63416.99</td>\n",
       "      <td>C1662241365</td>\n",
       "      <td>276433.18</td>\n",
       "      <td>1</td>\n",
       "      <td>0</td>\n",
       "    </tr>\n",
       "    <tr>\n",
       "      <th>5450</th>\n",
       "      <td>743</td>\n",
       "      <td>TRANSFER</td>\n",
       "      <td>1258818.82</td>\n",
       "      <td>C1531301470</td>\n",
       "      <td>1258818.82</td>\n",
       "      <td>C1470998563</td>\n",
       "      <td>0.00</td>\n",
       "      <td>1</td>\n",
       "      <td>0</td>\n",
       "    </tr>\n",
       "    <tr>\n",
       "      <th>5451</th>\n",
       "      <td>743</td>\n",
       "      <td>TRANSFER</td>\n",
       "      <td>339682.13</td>\n",
       "      <td>C2013999242</td>\n",
       "      <td>339682.13</td>\n",
       "      <td>C1850423904</td>\n",
       "      <td>0.00</td>\n",
       "      <td>1</td>\n",
       "      <td>0</td>\n",
       "    </tr>\n",
       "    <tr>\n",
       "      <th>5452</th>\n",
       "      <td>743</td>\n",
       "      <td>CASH_OUT</td>\n",
       "      <td>339682.13</td>\n",
       "      <td>C786484425</td>\n",
       "      <td>339682.13</td>\n",
       "      <td>C776919290</td>\n",
       "      <td>0.00</td>\n",
       "      <td>1</td>\n",
       "      <td>0</td>\n",
       "    </tr>\n",
       "    <tr>\n",
       "      <th>5453</th>\n",
       "      <td>743</td>\n",
       "      <td>TRANSFER</td>\n",
       "      <td>850002.52</td>\n",
       "      <td>C1685995037</td>\n",
       "      <td>850002.52</td>\n",
       "      <td>C2080388513</td>\n",
       "      <td>0.00</td>\n",
       "      <td>1</td>\n",
       "      <td>0</td>\n",
       "    </tr>\n",
       "  </tbody>\n",
       "</table>\n",
       "<p>5454 rows × 9 columns</p>\n",
       "</div>"
      ],
      "text/plain": [
       "      step      type      amount     nameOrig  oldbalanceOrg     nameDest  \\\n",
       "0        1  TRANSFER      181.00  C1305486145         181.00   C553264065   \n",
       "1        1  CASH_OUT      181.00   C840083671         181.00    C38997010   \n",
       "2        1  TRANSFER     2806.00  C1420196421        2806.00   C972765878   \n",
       "3        1  CASH_OUT     2806.00  C2101527076        2806.00  C1007251739   \n",
       "4        1  TRANSFER    20128.00   C137533655       20128.00  C1848415041   \n",
       "...    ...       ...         ...          ...            ...          ...   \n",
       "5449   742  CASH_OUT    63416.99   C994950684       63416.99  C1662241365   \n",
       "5450   743  TRANSFER  1258818.82  C1531301470     1258818.82  C1470998563   \n",
       "5451   743  TRANSFER   339682.13  C2013999242      339682.13  C1850423904   \n",
       "5452   743  CASH_OUT   339682.13   C786484425      339682.13   C776919290   \n",
       "5453   743  TRANSFER   850002.52  C1685995037      850002.52  C2080388513   \n",
       "\n",
       "      oldbalanceDest  isFraud  isFlaggedFraud  \n",
       "0               0.00        1               0  \n",
       "1           21182.00        1               0  \n",
       "2               0.00        1               0  \n",
       "3           26202.00        1               0  \n",
       "4               0.00        1               0  \n",
       "...              ...      ...             ...  \n",
       "5449       276433.18        1               0  \n",
       "5450            0.00        1               0  \n",
       "5451            0.00        1               0  \n",
       "5452            0.00        1               0  \n",
       "5453            0.00        1               0  \n",
       "\n",
       "[5454 rows x 9 columns]"
      ]
     },
     "execution_count": 23,
     "metadata": {},
     "output_type": "execute_result"
    }
   ],
   "source": [
    "df_1_cleaned.reset_index(drop=True)"
   ]
  },
  {
   "cell_type": "code",
   "execution_count": 24,
   "metadata": {
    "execution": {
     "iopub.execute_input": "2024-08-10T06:39:38.328737Z",
     "iopub.status.busy": "2024-08-10T06:39:38.328349Z",
     "iopub.status.idle": "2024-08-10T06:39:38.336799Z",
     "shell.execute_reply": "2024-08-10T06:39:38.335548Z",
     "shell.execute_reply.started": "2024-08-10T06:39:38.328694Z"
    }
   },
   "outputs": [
    {
     "data": {
      "text/plain": [
       "(5454, 9)"
      ]
     },
     "execution_count": 24,
     "metadata": {},
     "output_type": "execute_result"
    }
   ],
   "source": [
    "df_1_cleaned.shape"
   ]
  },
  {
   "cell_type": "code",
   "execution_count": 25,
   "metadata": {
    "execution": {
     "iopub.execute_input": "2024-08-10T06:39:38.338446Z",
     "iopub.status.busy": "2024-08-10T06:39:38.338101Z",
     "iopub.status.idle": "2024-08-10T06:39:38.863560Z",
     "shell.execute_reply": "2024-08-10T06:39:38.862536Z",
     "shell.execute_reply.started": "2024-08-10T06:39:38.338408Z"
    }
   },
   "outputs": [],
   "source": [
    "df_0 = df[df['isFraud']==0]"
   ]
  },
  {
   "cell_type": "code",
   "execution_count": 26,
   "metadata": {
    "execution": {
     "iopub.execute_input": "2024-08-10T06:39:38.865923Z",
     "iopub.status.busy": "2024-08-10T06:39:38.865395Z",
     "iopub.status.idle": "2024-08-10T06:39:38.872632Z",
     "shell.execute_reply": "2024-08-10T06:39:38.871454Z",
     "shell.execute_reply.started": "2024-08-10T06:39:38.865871Z"
    }
   },
   "outputs": [
    {
     "data": {
      "text/plain": [
       "(6354407, 9)"
      ]
     },
     "execution_count": 26,
     "metadata": {},
     "output_type": "execute_result"
    }
   ],
   "source": [
    "df_0.shape"
   ]
  },
  {
   "cell_type": "code",
   "execution_count": 27,
   "metadata": {
    "execution": {
     "iopub.execute_input": "2024-08-10T06:39:38.881822Z",
     "iopub.status.busy": "2024-08-10T06:39:38.881425Z",
     "iopub.status.idle": "2024-08-10T06:39:46.273358Z",
     "shell.execute_reply": "2024-08-10T06:39:46.272238Z",
     "shell.execute_reply.started": "2024-08-10T06:39:38.881789Z"
    }
   },
   "outputs": [
    {
     "data": {
      "image/png": "[encoded data removed]",
      "text/plain": [
       "<Figure size 1500x3000 with 6 Axes>"
      ]
     },
     "metadata": {},
     "output_type": "display_data"
    }
   ],
   "source": [
    "numerical_columns = df_0.select_dtypes(include=['number']).columns\n",
    "\n",
    "# Number of numerical columns\n",
    "num_plots = len(numerical_columns)\n",
    "\n",
    "# Create subplots with enough space for each numerical column\n",
    "plt.figure(figsize=(15, 5 * num_plots))\n",
    "\n",
    "# Plot boxplots for each numerical column\n",
    "for idx, column in enumerate(numerical_columns):\n",
    "    plt.subplot(num_plots, 1, idx + 1)  # Create a subplot for each column\n",
    "    sns.boxplot(data=df_0, x=column)  # Plot the boxplot\n",
    "    plt.title(f'Boxplot for {column}')  # Add a title to each subplot\n",
    "\n",
    "plt.tight_layout()  # Adjust layout to prevent overlap\n",
    "plt.show()  # Show all plots"
   ]
  },
  {
   "cell_type": "code",
   "execution_count": 28,
   "metadata": {
    "execution": {
     "iopub.execute_input": "2024-08-10T06:39:46.275107Z",
     "iopub.status.busy": "2024-08-10T06:39:46.274763Z",
     "iopub.status.idle": "2024-08-10T06:39:50.629641Z",
     "shell.execute_reply": "2024-08-10T06:39:50.628621Z",
     "shell.execute_reply.started": "2024-08-10T06:39:46.275077Z"
    }
   },
   "outputs": [],
   "source": [
    "df_0_cleaned = remove_outliers_iqr(df_0)"
   ]
  },
  {
   "cell_type": "code",
   "execution_count": 29,
   "metadata": {
    "execution": {
     "iopub.execute_input": "2024-08-10T06:39:50.631349Z",
     "iopub.status.busy": "2024-08-10T06:39:50.630994Z",
     "iopub.status.idle": "2024-08-10T06:39:50.649190Z",
     "shell.execute_reply": "2024-08-10T06:39:50.648105Z",
     "shell.execute_reply.started": "2024-08-10T06:39:50.631317Z"
    }
   },
   "outputs": [
    {
     "data": {
      "text/html": [
       "<div>\n",
       "<style scoped>\n",
       "    .dataframe tbody tr th:only-of-type {\n",
       "        vertical-align: middle;\n",
       "    }\n",
       "\n",
       "    .dataframe tbody tr th {\n",
       "        vertical-align: top;\n",
       "    }\n",
       "\n",
       "    .dataframe thead th {\n",
       "        text-align: right;\n",
       "    }\n",
       "</style>\n",
       "<table border=\"1\" class=\"dataframe\">\n",
       "  <thead>\n",
       "    <tr style=\"text-align: right;\">\n",
       "      <th></th>\n",
       "      <th>step</th>\n",
       "      <th>type</th>\n",
       "      <th>amount</th>\n",
       "      <th>nameOrig</th>\n",
       "      <th>oldbalanceOrg</th>\n",
       "      <th>nameDest</th>\n",
       "      <th>oldbalanceDest</th>\n",
       "      <th>isFraud</th>\n",
       "      <th>isFlaggedFraud</th>\n",
       "    </tr>\n",
       "  </thead>\n",
       "  <tbody>\n",
       "    <tr>\n",
       "      <th>0</th>\n",
       "      <td>1</td>\n",
       "      <td>PAYMENT</td>\n",
       "      <td>9839.64</td>\n",
       "      <td>C1231006815</td>\n",
       "      <td>170136.0</td>\n",
       "      <td>M1979787155</td>\n",
       "      <td>0.0</td>\n",
       "      <td>0</td>\n",
       "      <td>0</td>\n",
       "    </tr>\n",
       "    <tr>\n",
       "      <th>1</th>\n",
       "      <td>1</td>\n",
       "      <td>PAYMENT</td>\n",
       "      <td>1864.28</td>\n",
       "      <td>C1666544295</td>\n",
       "      <td>21249.0</td>\n",
       "      <td>M2044282225</td>\n",
       "      <td>0.0</td>\n",
       "      <td>0</td>\n",
       "      <td>0</td>\n",
       "    </tr>\n",
       "    <tr>\n",
       "      <th>4</th>\n",
       "      <td>1</td>\n",
       "      <td>PAYMENT</td>\n",
       "      <td>11668.14</td>\n",
       "      <td>C2048537720</td>\n",
       "      <td>41554.0</td>\n",
       "      <td>M1230701703</td>\n",
       "      <td>0.0</td>\n",
       "      <td>0</td>\n",
       "      <td>0</td>\n",
       "    </tr>\n",
       "    <tr>\n",
       "      <th>5</th>\n",
       "      <td>1</td>\n",
       "      <td>PAYMENT</td>\n",
       "      <td>7817.71</td>\n",
       "      <td>C90045638</td>\n",
       "      <td>53860.0</td>\n",
       "      <td>M573487274</td>\n",
       "      <td>0.0</td>\n",
       "      <td>0</td>\n",
       "      <td>0</td>\n",
       "    </tr>\n",
       "    <tr>\n",
       "      <th>6</th>\n",
       "      <td>1</td>\n",
       "      <td>PAYMENT</td>\n",
       "      <td>7107.77</td>\n",
       "      <td>C154988899</td>\n",
       "      <td>183195.0</td>\n",
       "      <td>M408069119</td>\n",
       "      <td>0.0</td>\n",
       "      <td>0</td>\n",
       "      <td>0</td>\n",
       "    </tr>\n",
       "  </tbody>\n",
       "</table>\n",
       "</div>"
      ],
      "text/plain": [
       "   step     type    amount     nameOrig  oldbalanceOrg     nameDest  \\\n",
       "0     1  PAYMENT   9839.64  C1231006815       170136.0  M1979787155   \n",
       "1     1  PAYMENT   1864.28  C1666544295        21249.0  M2044282225   \n",
       "4     1  PAYMENT  11668.14  C2048537720        41554.0  M1230701703   \n",
       "5     1  PAYMENT   7817.71    C90045638        53860.0   M573487274   \n",
       "6     1  PAYMENT   7107.77   C154988899       183195.0   M408069119   \n",
       "\n",
       "   oldbalanceDest  isFraud  isFlaggedFraud  \n",
       "0             0.0        0               0  \n",
       "1             0.0        0               0  \n",
       "4             0.0        0               0  \n",
       "5             0.0        0               0  \n",
       "6             0.0        0               0  "
      ]
     },
     "execution_count": 29,
     "metadata": {},
     "output_type": "execute_result"
    }
   ],
   "source": [
    "df_0_cleaned.head()"
   ]
  },
  {
   "cell_type": "code",
   "execution_count": 30,
   "metadata": {
    "execution": {
     "iopub.execute_input": "2024-08-10T06:39:50.651538Z",
     "iopub.status.busy": "2024-08-10T06:39:50.650799Z",
     "iopub.status.idle": "2024-08-10T06:39:50.662743Z",
     "shell.execute_reply": "2024-08-10T06:39:50.661708Z",
     "shell.execute_reply.started": "2024-08-10T06:39:50.651495Z"
    }
   },
   "outputs": [
    {
     "data": {
      "text/plain": [
       "(4214472, 9)"
      ]
     },
     "execution_count": 30,
     "metadata": {},
     "output_type": "execute_result"
    }
   ],
   "source": [
    "df_0_cleaned.shape"
   ]
  },
  {
   "cell_type": "code",
   "execution_count": 31,
   "metadata": {
    "execution": {
     "iopub.execute_input": "2024-08-10T06:39:50.664536Z",
     "iopub.status.busy": "2024-08-10T06:39:50.664115Z",
     "iopub.status.idle": "2024-08-10T06:39:50.856201Z",
     "shell.execute_reply": "2024-08-10T06:39:50.855017Z",
     "shell.execute_reply.started": "2024-08-10T06:39:50.664497Z"
    }
   },
   "outputs": [],
   "source": [
    "df_0_cleaned = df_0_cleaned.sample(n = 5454 , random_state=1)"
   ]
  },
  {
   "cell_type": "markdown",
   "metadata": {},
   "source": [
    "#### Now the dataset is clean on the basis of our output variable"
   ]
  },
  {
   "cell_type": "markdown",
   "metadata": {},
   "source": [
    "### Combining the datasets to create sub dataset"
   ]
  },
  {
   "cell_type": "code",
   "execution_count": 32,
   "metadata": {
    "execution": {
     "iopub.execute_input": "2024-08-10T06:39:50.858930Z",
     "iopub.status.busy": "2024-08-10T06:39:50.857751Z",
     "iopub.status.idle": "2024-08-10T06:39:50.866778Z",
     "shell.execute_reply": "2024-08-10T06:39:50.865781Z",
     "shell.execute_reply.started": "2024-08-10T06:39:50.858883Z"
    }
   },
   "outputs": [],
   "source": [
    "df_combined = pd.concat([df_1_cleaned, df_0_cleaned],axis=0)"
   ]
  },
  {
   "cell_type": "code",
   "execution_count": 33,
   "metadata": {
    "execution": {
     "iopub.execute_input": "2024-08-10T06:39:50.868722Z",
     "iopub.status.busy": "2024-08-10T06:39:50.868267Z",
     "iopub.status.idle": "2024-08-10T06:39:50.888727Z",
     "shell.execute_reply": "2024-08-10T06:39:50.887569Z",
     "shell.execute_reply.started": "2024-08-10T06:39:50.868681Z"
    }
   },
   "outputs": [
    {
     "data": {
      "text/html": [
       "<div>\n",
       "<style scoped>\n",
       "    .dataframe tbody tr th:only-of-type {\n",
       "        vertical-align: middle;\n",
       "    }\n",
       "\n",
       "    .dataframe tbody tr th {\n",
       "        vertical-align: top;\n",
       "    }\n",
       "\n",
       "    .dataframe thead th {\n",
       "        text-align: right;\n",
       "    }\n",
       "</style>\n",
       "<table border=\"1\" class=\"dataframe\">\n",
       "  <thead>\n",
       "    <tr style=\"text-align: right;\">\n",
       "      <th></th>\n",
       "      <th>step</th>\n",
       "      <th>type</th>\n",
       "      <th>amount</th>\n",
       "      <th>nameOrig</th>\n",
       "      <th>oldbalanceOrg</th>\n",
       "      <th>nameDest</th>\n",
       "      <th>oldbalanceDest</th>\n",
       "      <th>isFraud</th>\n",
       "      <th>isFlaggedFraud</th>\n",
       "    </tr>\n",
       "  </thead>\n",
       "  <tbody>\n",
       "    <tr>\n",
       "      <th>2</th>\n",
       "      <td>1</td>\n",
       "      <td>TRANSFER</td>\n",
       "      <td>181.0</td>\n",
       "      <td>C1305486145</td>\n",
       "      <td>181.0</td>\n",
       "      <td>C553264065</td>\n",
       "      <td>0.0</td>\n",
       "      <td>1</td>\n",
       "      <td>0</td>\n",
       "    </tr>\n",
       "    <tr>\n",
       "      <th>3</th>\n",
       "      <td>1</td>\n",
       "      <td>CASH_OUT</td>\n",
       "      <td>181.0</td>\n",
       "      <td>C840083671</td>\n",
       "      <td>181.0</td>\n",
       "      <td>C38997010</td>\n",
       "      <td>21182.0</td>\n",
       "      <td>1</td>\n",
       "      <td>0</td>\n",
       "    </tr>\n",
       "    <tr>\n",
       "      <th>251</th>\n",
       "      <td>1</td>\n",
       "      <td>TRANSFER</td>\n",
       "      <td>2806.0</td>\n",
       "      <td>C1420196421</td>\n",
       "      <td>2806.0</td>\n",
       "      <td>C972765878</td>\n",
       "      <td>0.0</td>\n",
       "      <td>1</td>\n",
       "      <td>0</td>\n",
       "    </tr>\n",
       "    <tr>\n",
       "      <th>252</th>\n",
       "      <td>1</td>\n",
       "      <td>CASH_OUT</td>\n",
       "      <td>2806.0</td>\n",
       "      <td>C2101527076</td>\n",
       "      <td>2806.0</td>\n",
       "      <td>C1007251739</td>\n",
       "      <td>26202.0</td>\n",
       "      <td>1</td>\n",
       "      <td>0</td>\n",
       "    </tr>\n",
       "    <tr>\n",
       "      <th>680</th>\n",
       "      <td>1</td>\n",
       "      <td>TRANSFER</td>\n",
       "      <td>20128.0</td>\n",
       "      <td>C137533655</td>\n",
       "      <td>20128.0</td>\n",
       "      <td>C1848415041</td>\n",
       "      <td>0.0</td>\n",
       "      <td>1</td>\n",
       "      <td>0</td>\n",
       "    </tr>\n",
       "  </tbody>\n",
       "</table>\n",
       "</div>"
      ],
      "text/plain": [
       "     step      type   amount     nameOrig  oldbalanceOrg     nameDest  \\\n",
       "2       1  TRANSFER    181.0  C1305486145          181.0   C553264065   \n",
       "3       1  CASH_OUT    181.0   C840083671          181.0    C38997010   \n",
       "251     1  TRANSFER   2806.0  C1420196421         2806.0   C972765878   \n",
       "252     1  CASH_OUT   2806.0  C2101527076         2806.0  C1007251739   \n",
       "680     1  TRANSFER  20128.0   C137533655        20128.0  C1848415041   \n",
       "\n",
       "     oldbalanceDest  isFraud  isFlaggedFraud  \n",
       "2               0.0        1               0  \n",
       "3           21182.0        1               0  \n",
       "251             0.0        1               0  \n",
       "252         26202.0        1               0  \n",
       "680             0.0        1               0  "
      ]
     },
     "execution_count": 33,
     "metadata": {},
     "output_type": "execute_result"
    }
   ],
   "source": [
    "df_combined.head()"
   ]
  },
  {
   "cell_type": "code",
   "execution_count": 34,
   "metadata": {
    "execution": {
     "iopub.execute_input": "2024-08-10T06:39:50.890392Z",
     "iopub.status.busy": "2024-08-10T06:39:50.890049Z",
     "iopub.status.idle": "2024-08-10T06:39:50.912940Z",
     "shell.execute_reply": "2024-08-10T06:39:50.911434Z",
     "shell.execute_reply.started": "2024-08-10T06:39:50.890352Z"
    }
   },
   "outputs": [
    {
     "data": {
      "text/html": [
       "<div>\n",
       "<style scoped>\n",
       "    .dataframe tbody tr th:only-of-type {\n",
       "        vertical-align: middle;\n",
       "    }\n",
       "\n",
       "    .dataframe tbody tr th {\n",
       "        vertical-align: top;\n",
       "    }\n",
       "\n",
       "    .dataframe thead th {\n",
       "        text-align: right;\n",
       "    }\n",
       "</style>\n",
       "<table border=\"1\" class=\"dataframe\">\n",
       "  <thead>\n",
       "    <tr style=\"text-align: right;\">\n",
       "      <th></th>\n",
       "      <th>step</th>\n",
       "      <th>type</th>\n",
       "      <th>amount</th>\n",
       "      <th>nameOrig</th>\n",
       "      <th>oldbalanceOrg</th>\n",
       "      <th>nameDest</th>\n",
       "      <th>oldbalanceDest</th>\n",
       "      <th>isFraud</th>\n",
       "      <th>isFlaggedFraud</th>\n",
       "    </tr>\n",
       "  </thead>\n",
       "  <tbody>\n",
       "    <tr>\n",
       "      <th>1001855</th>\n",
       "      <td>45</td>\n",
       "      <td>CASH_OUT</td>\n",
       "      <td>57516.92</td>\n",
       "      <td>C1860578205</td>\n",
       "      <td>190663.00</td>\n",
       "      <td>C1073905576</td>\n",
       "      <td>1415254.80</td>\n",
       "      <td>0</td>\n",
       "      <td>0</td>\n",
       "    </tr>\n",
       "    <tr>\n",
       "      <th>5521705</th>\n",
       "      <td>380</td>\n",
       "      <td>PAYMENT</td>\n",
       "      <td>393.48</td>\n",
       "      <td>C1467096920</td>\n",
       "      <td>371.13</td>\n",
       "      <td>M382447075</td>\n",
       "      <td>0.00</td>\n",
       "      <td>0</td>\n",
       "      <td>0</td>\n",
       "    </tr>\n",
       "    <tr>\n",
       "      <th>5293939</th>\n",
       "      <td>373</td>\n",
       "      <td>CASH_OUT</td>\n",
       "      <td>398686.77</td>\n",
       "      <td>C1877563128</td>\n",
       "      <td>48986.00</td>\n",
       "      <td>C1992508718</td>\n",
       "      <td>182746.30</td>\n",
       "      <td>0</td>\n",
       "      <td>0</td>\n",
       "    </tr>\n",
       "    <tr>\n",
       "      <th>4778351</th>\n",
       "      <td>335</td>\n",
       "      <td>CASH_OUT</td>\n",
       "      <td>48935.21</td>\n",
       "      <td>C1046773648</td>\n",
       "      <td>0.00</td>\n",
       "      <td>C1501597986</td>\n",
       "      <td>111796.19</td>\n",
       "      <td>0</td>\n",
       "      <td>0</td>\n",
       "    </tr>\n",
       "    <tr>\n",
       "      <th>3909212</th>\n",
       "      <td>284</td>\n",
       "      <td>PAYMENT</td>\n",
       "      <td>6656.52</td>\n",
       "      <td>C1493931281</td>\n",
       "      <td>0.00</td>\n",
       "      <td>M1765494054</td>\n",
       "      <td>0.00</td>\n",
       "      <td>0</td>\n",
       "      <td>0</td>\n",
       "    </tr>\n",
       "  </tbody>\n",
       "</table>\n",
       "</div>"
      ],
      "text/plain": [
       "         step      type     amount     nameOrig  oldbalanceOrg     nameDest  \\\n",
       "1001855    45  CASH_OUT   57516.92  C1860578205      190663.00  C1073905576   \n",
       "5521705   380   PAYMENT     393.48  C1467096920         371.13   M382447075   \n",
       "5293939   373  CASH_OUT  398686.77  C1877563128       48986.00  C1992508718   \n",
       "4778351   335  CASH_OUT   48935.21  C1046773648           0.00  C1501597986   \n",
       "3909212   284   PAYMENT    6656.52  C1493931281           0.00  M1765494054   \n",
       "\n",
       "         oldbalanceDest  isFraud  isFlaggedFraud  \n",
       "1001855      1415254.80        0               0  \n",
       "5521705            0.00        0               0  \n",
       "5293939       182746.30        0               0  \n",
       "4778351       111796.19        0               0  \n",
       "3909212            0.00        0               0  "
      ]
     },
     "execution_count": 34,
     "metadata": {},
     "output_type": "execute_result"
    }
   ],
   "source": [
    "df_combined.tail()"
   ]
  },
  {
   "cell_type": "markdown",
   "metadata": {},
   "source": [
    "#### Resetting the index and droping the index column"
   ]
  },
  {
   "cell_type": "code",
   "execution_count": 35,
   "metadata": {
    "execution": {
     "iopub.execute_input": "2024-08-10T06:39:50.915180Z",
     "iopub.status.busy": "2024-08-10T06:39:50.914722Z",
     "iopub.status.idle": "2024-08-10T06:39:50.926386Z",
     "shell.execute_reply": "2024-08-10T06:39:50.925233Z",
     "shell.execute_reply.started": "2024-08-10T06:39:50.915135Z"
    }
   },
   "outputs": [
    {
     "data": {
      "text/html": [
       "<div>\n",
       "<style scoped>\n",
       "    .dataframe tbody tr th:only-of-type {\n",
       "        vertical-align: middle;\n",
       "    }\n",
       "\n",
       "    .dataframe tbody tr th {\n",
       "        vertical-align: top;\n",
       "    }\n",
       "\n",
       "    .dataframe thead th {\n",
       "        text-align: right;\n",
       "    }\n",
       "</style>\n",
       "<table border=\"1\" class=\"dataframe\">\n",
       "  <thead>\n",
       "    <tr style=\"text-align: right;\">\n",
       "      <th></th>\n",
       "      <th>step</th>\n",
       "      <th>type</th>\n",
       "      <th>amount</th>\n",
       "      <th>nameOrig</th>\n",
       "      <th>oldbalanceOrg</th>\n",
       "      <th>nameDest</th>\n",
       "      <th>oldbalanceDest</th>\n",
       "      <th>isFraud</th>\n",
       "      <th>isFlaggedFraud</th>\n",
       "    </tr>\n",
       "  </thead>\n",
       "  <tbody>\n",
       "    <tr>\n",
       "      <th>0</th>\n",
       "      <td>1</td>\n",
       "      <td>TRANSFER</td>\n",
       "      <td>181.00</td>\n",
       "      <td>C1305486145</td>\n",
       "      <td>181.00</td>\n",
       "      <td>C553264065</td>\n",
       "      <td>0.00</td>\n",
       "      <td>1</td>\n",
       "      <td>0</td>\n",
       "    </tr>\n",
       "    <tr>\n",
       "      <th>1</th>\n",
       "      <td>1</td>\n",
       "      <td>CASH_OUT</td>\n",
       "      <td>181.00</td>\n",
       "      <td>C840083671</td>\n",
       "      <td>181.00</td>\n",
       "      <td>C38997010</td>\n",
       "      <td>21182.00</td>\n",
       "      <td>1</td>\n",
       "      <td>0</td>\n",
       "    </tr>\n",
       "    <tr>\n",
       "      <th>2</th>\n",
       "      <td>1</td>\n",
       "      <td>TRANSFER</td>\n",
       "      <td>2806.00</td>\n",
       "      <td>C1420196421</td>\n",
       "      <td>2806.00</td>\n",
       "      <td>C972765878</td>\n",
       "      <td>0.00</td>\n",
       "      <td>1</td>\n",
       "      <td>0</td>\n",
       "    </tr>\n",
       "    <tr>\n",
       "      <th>3</th>\n",
       "      <td>1</td>\n",
       "      <td>CASH_OUT</td>\n",
       "      <td>2806.00</td>\n",
       "      <td>C2101527076</td>\n",
       "      <td>2806.00</td>\n",
       "      <td>C1007251739</td>\n",
       "      <td>26202.00</td>\n",
       "      <td>1</td>\n",
       "      <td>0</td>\n",
       "    </tr>\n",
       "    <tr>\n",
       "      <th>4</th>\n",
       "      <td>1</td>\n",
       "      <td>TRANSFER</td>\n",
       "      <td>20128.00</td>\n",
       "      <td>C137533655</td>\n",
       "      <td>20128.00</td>\n",
       "      <td>C1848415041</td>\n",
       "      <td>0.00</td>\n",
       "      <td>1</td>\n",
       "      <td>0</td>\n",
       "    </tr>\n",
       "    <tr>\n",
       "      <th>...</th>\n",
       "      <td>...</td>\n",
       "      <td>...</td>\n",
       "      <td>...</td>\n",
       "      <td>...</td>\n",
       "      <td>...</td>\n",
       "      <td>...</td>\n",
       "      <td>...</td>\n",
       "      <td>...</td>\n",
       "      <td>...</td>\n",
       "    </tr>\n",
       "    <tr>\n",
       "      <th>10903</th>\n",
       "      <td>45</td>\n",
       "      <td>CASH_OUT</td>\n",
       "      <td>57516.92</td>\n",
       "      <td>C1860578205</td>\n",
       "      <td>190663.00</td>\n",
       "      <td>C1073905576</td>\n",
       "      <td>1415254.80</td>\n",
       "      <td>0</td>\n",
       "      <td>0</td>\n",
       "    </tr>\n",
       "    <tr>\n",
       "      <th>10904</th>\n",
       "      <td>380</td>\n",
       "      <td>PAYMENT</td>\n",
       "      <td>393.48</td>\n",
       "      <td>C1467096920</td>\n",
       "      <td>371.13</td>\n",
       "      <td>M382447075</td>\n",
       "      <td>0.00</td>\n",
       "      <td>0</td>\n",
       "      <td>0</td>\n",
       "    </tr>\n",
       "    <tr>\n",
       "      <th>10905</th>\n",
       "      <td>373</td>\n",
       "      <td>CASH_OUT</td>\n",
       "      <td>398686.77</td>\n",
       "      <td>C1877563128</td>\n",
       "      <td>48986.00</td>\n",
       "      <td>C1992508718</td>\n",
       "      <td>182746.30</td>\n",
       "      <td>0</td>\n",
       "      <td>0</td>\n",
       "    </tr>\n",
       "    <tr>\n",
       "      <th>10906</th>\n",
       "      <td>335</td>\n",
       "      <td>CASH_OUT</td>\n",
       "      <td>48935.21</td>\n",
       "      <td>C1046773648</td>\n",
       "      <td>0.00</td>\n",
       "      <td>C1501597986</td>\n",
       "      <td>111796.19</td>\n",
       "      <td>0</td>\n",
       "      <td>0</td>\n",
       "    </tr>\n",
       "    <tr>\n",
       "      <th>10907</th>\n",
       "      <td>284</td>\n",
       "      <td>PAYMENT</td>\n",
       "      <td>6656.52</td>\n",
       "      <td>C1493931281</td>\n",
       "      <td>0.00</td>\n",
       "      <td>M1765494054</td>\n",
       "      <td>0.00</td>\n",
       "      <td>0</td>\n",
       "      <td>0</td>\n",
       "    </tr>\n",
       "  </tbody>\n",
       "</table>\n",
       "<p>10908 rows × 9 columns</p>\n",
       "</div>"
      ],
      "text/plain": [
       "       step      type     amount     nameOrig  oldbalanceOrg     nameDest  \\\n",
       "0         1  TRANSFER     181.00  C1305486145         181.00   C553264065   \n",
       "1         1  CASH_OUT     181.00   C840083671         181.00    C38997010   \n",
       "2         1  TRANSFER    2806.00  C1420196421        2806.00   C972765878   \n",
       "3         1  CASH_OUT    2806.00  C2101527076        2806.00  C1007251739   \n",
       "4         1  TRANSFER   20128.00   C137533655       20128.00  C1848415041   \n",
       "...     ...       ...        ...          ...            ...          ...   \n",
       "10903    45  CASH_OUT   57516.92  C1860578205      190663.00  C1073905576   \n",
       "10904   380   PAYMENT     393.48  C1467096920         371.13   M382447075   \n",
       "10905   373  CASH_OUT  398686.77  C1877563128       48986.00  C1992508718   \n",
       "10906   335  CASH_OUT   48935.21  C1046773648           0.00  C1501597986   \n",
       "10907   284   PAYMENT    6656.52  C1493931281           0.00  M1765494054   \n",
       "\n",
       "       oldbalanceDest  isFraud  isFlaggedFraud  \n",
       "0                0.00        1               0  \n",
       "1            21182.00        1               0  \n",
       "2                0.00        1               0  \n",
       "3            26202.00        1               0  \n",
       "4                0.00        1               0  \n",
       "...               ...      ...             ...  \n",
       "10903      1415254.80        0               0  \n",
       "10904            0.00        0               0  \n",
       "10905       182746.30        0               0  \n",
       "10906       111796.19        0               0  \n",
       "10907            0.00        0               0  \n",
       "\n",
       "[10908 rows x 9 columns]"
      ]
     },
     "execution_count": 35,
     "metadata": {},
     "output_type": "execute_result"
    }
   ],
   "source": [
    "df_combined.reset_index(drop=True)"
   ]
  },
  {
   "cell_type": "markdown",
   "metadata": {},
   "source": [
    "#### I belive for a transaction to be fraud the person who is in the reciveing end of the money may be fraudulent, not the one sharing money, becuase which fraud person will spend money?\n",
    "#### So for this reason what I have done is to mark 0 for people in 'namedest' where the instance is not fraudulent .\n",
    "#### The reason behind this is that the rest of the people can then be encoded with the help of LabelEncoder and when for a new record we do this particular transformation we will able to know whether the destination person ismost likely Fraud if it is not 0.\n"
   ]
  },
  {
   "cell_type": "code",
   "execution_count": 36,
   "metadata": {
    "execution": {
     "iopub.execute_input": "2024-08-10T06:39:50.928369Z",
     "iopub.status.busy": "2024-08-10T06:39:50.927931Z",
     "iopub.status.idle": "2024-08-10T06:39:51.426099Z",
     "shell.execute_reply": "2024-08-10T06:39:51.424704Z",
     "shell.execute_reply.started": "2024-08-10T06:39:50.928329Z"
    }
   },
   "outputs": [
    {
     "name": "stdout",
     "output_type": "stream",
     "text": [
      "         step  type     amount  nameOrig  oldbalanceOrg  nameDest  \\\n",
      "2           1     4     181.00      1812         181.00      6434   \n",
      "3           1     1     181.00      9980         181.00      5735   \n",
      "251         1     4    2806.00      2447        2806.00      8219   \n",
      "252         1     1    2806.00      6328        2806.00        37   \n",
      "680         1     4   20128.00      2185       20128.00      3680   \n",
      "...       ...   ...        ...       ...            ...       ...   \n",
      "1001855    45     1   57516.92      5018      190663.00       347   \n",
      "5521705   380     3     393.48      2720         371.13     10033   \n",
      "5293939   373     1  398686.77      5113       48986.00      4250   \n",
      "4778351   335     1   48935.21       267           0.00      2122   \n",
      "3909212   284     3    6656.52      2874           0.00      9329   \n",
      "\n",
      "         oldbalanceDest  isFraud  isFlaggedFraud  \n",
      "2                  0.00        1               0  \n",
      "3              21182.00        1               0  \n",
      "251                0.00        1               0  \n",
      "252            26202.00        1               0  \n",
      "680                0.00        1               0  \n",
      "...                 ...      ...             ...  \n",
      "1001855      1415254.80        0               0  \n",
      "5521705            0.00        0               0  \n",
      "5293939       182746.30        0               0  \n",
      "4778351       111796.19        0               0  \n",
      "3909212            0.00        0               0  \n",
      "\n",
      "[10908 rows x 9 columns]\n"
     ]
    }
   ],
   "source": [
    "df['nameDest'] = df_combined.apply(lambda row: 0 if row['isFraud'] == 0 else row['nameDest'], axis=1)\n",
    "\n",
    "\n",
    "label_encoders = {}\n",
    "\n",
    "# Identify non-numeric columns to encode\n",
    "non_numeric_columns = df_combined.select_dtypes(include=['object']).columns\n",
    "\n",
    "for column in non_numeric_columns:\n",
    "    le = LabelEncoder()\n",
    "    df_combined[column] = le.fit_transform(df_combined[column])\n",
    "    label_encoders[column] = le  \n",
    "\n",
    "# Display the DataFrame with updated 'dest' and encoded columns\n",
    "print(df_combined)"
   ]
  },
  {
   "cell_type": "code",
   "execution_count": 37,
   "metadata": {
    "execution": {
     "iopub.execute_input": "2024-08-10T06:39:51.428367Z",
     "iopub.status.busy": "2024-08-10T06:39:51.427852Z",
     "iopub.status.idle": "2024-08-10T06:39:51.432970Z",
     "shell.execute_reply": "2024-08-10T06:39:51.431979Z",
     "shell.execute_reply.started": "2024-08-10T06:39:51.428329Z"
    }
   },
   "outputs": [],
   "source": [
    "#df_combined.drop(['index','level_0'],axis=1,inplace=True)"
   ]
  },
  {
   "cell_type": "code",
   "execution_count": 38,
   "metadata": {
    "execution": {
     "iopub.execute_input": "2024-08-10T06:39:51.435219Z",
     "iopub.status.busy": "2024-08-10T06:39:51.434265Z",
     "iopub.status.idle": "2024-08-10T06:39:51.448689Z",
     "shell.execute_reply": "2024-08-10T06:39:51.447298Z",
     "shell.execute_reply.started": "2024-08-10T06:39:51.435180Z"
    }
   },
   "outputs": [
    {
     "data": {
      "text/plain": [
       "Index(['step', 'type', 'amount', 'nameOrig', 'oldbalanceOrg', 'nameDest',\n",
       "       'oldbalanceDest', 'isFraud', 'isFlaggedFraud'],\n",
       "      dtype='object')"
      ]
     },
     "execution_count": 38,
     "metadata": {},
     "output_type": "execute_result"
    }
   ],
   "source": [
    "df_combined.columns"
   ]
  },
  {
   "cell_type": "markdown",
   "metadata": {},
   "source": [
    "### Splitting the dataset into X and y and then into train and test"
   ]
  },
  {
   "cell_type": "code",
   "execution_count": 39,
   "metadata": {
    "execution": {
     "iopub.execute_input": "2024-08-10T06:39:51.450580Z",
     "iopub.status.busy": "2024-08-10T06:39:51.450197Z",
     "iopub.status.idle": "2024-08-10T06:39:51.459763Z",
     "shell.execute_reply": "2024-08-10T06:39:51.458555Z",
     "shell.execute_reply.started": "2024-08-10T06:39:51.450546Z"
    }
   },
   "outputs": [],
   "source": [
    "X = df_combined.drop('isFraud',axis=1)\n",
    "y = df_combined['isFraud']"
   ]
  },
  {
   "cell_type": "code",
   "execution_count": 40,
   "metadata": {
    "execution": {
     "iopub.execute_input": "2024-08-10T06:39:51.461737Z",
     "iopub.status.busy": "2024-08-10T06:39:51.461257Z",
     "iopub.status.idle": "2024-08-10T06:39:51.476908Z",
     "shell.execute_reply": "2024-08-10T06:39:51.475577Z",
     "shell.execute_reply.started": "2024-08-10T06:39:51.461684Z"
    }
   },
   "outputs": [],
   "source": [
    "X_train , X_test,y_train,y_test = train_test_split(X,y,test_size=0.25,stratify=y,random_state=1)"
   ]
  },
  {
   "cell_type": "code",
   "execution_count": 41,
   "metadata": {},
   "outputs": [],
   "source": [
    "X_train = X_train.reset_index(drop=True)\n",
    "X_test = X_test.reset_index(drop=True)\n",
    "y_train = y_train.reset_index(drop=True)\n",
    "X_test = X_test.reset_index(drop=True)"
   ]
  },
  {
   "cell_type": "markdown",
   "metadata": {},
   "source": [
    "### Standardizing the Independent variables"
   ]
  },
  {
   "cell_type": "code",
   "execution_count": 42,
   "metadata": {
    "execution": {
     "iopub.execute_input": "2024-08-10T06:39:51.478697Z",
     "iopub.status.busy": "2024-08-10T06:39:51.478323Z",
     "iopub.status.idle": "2024-08-10T06:39:51.483594Z",
     "shell.execute_reply": "2024-08-10T06:39:51.482371Z",
     "shell.execute_reply.started": "2024-08-10T06:39:51.478667Z"
    }
   },
   "outputs": [],
   "source": [
    "mm = MinMaxScaler()"
   ]
  },
  {
   "cell_type": "code",
   "execution_count": 43,
   "metadata": {
    "execution": {
     "iopub.execute_input": "2024-08-10T06:39:51.485382Z",
     "iopub.status.busy": "2024-08-10T06:39:51.485067Z",
     "iopub.status.idle": "2024-08-10T06:39:53.605002Z",
     "shell.execute_reply": "2024-08-10T06:39:53.604002Z",
     "shell.execute_reply.started": "2024-08-10T06:39:51.485354Z"
    }
   },
   "outputs": [],
   "source": [
    "num_columns = ['step','amount', 'nameOrig', 'oldbalanceOrg', 'nameDest', 'oldbalanceDest']\n",
    "X_train[num_columns] = mm.fit_transform(X_train[num_columns])\n",
    "X_test[num_columns] = mm.transform(X_test[num_columns])"
   ]
  },
  {
   "cell_type": "markdown",
   "metadata": {},
   "source": [
    "### Logistic Regression "
   ]
  },
  {
   "cell_type": "code",
   "execution_count": 44,
   "metadata": {
    "execution": {
     "iopub.execute_input": "2024-08-10T06:39:53.607219Z",
     "iopub.status.busy": "2024-08-10T06:39:53.606796Z",
     "iopub.status.idle": "2024-08-10T06:39:53.634732Z",
     "shell.execute_reply": "2024-08-10T06:39:53.633204Z",
     "shell.execute_reply.started": "2024-08-10T06:39:53.607177Z"
    }
   },
   "outputs": [
    {
     "data": {
      "text/html": [
       "<style>#sk-container-id-1 {color: black;}#sk-container-id-1 pre{padding: 0;}#sk-container-id-1 div.sk-toggleable {background-color: white;}#sk-container-id-1 label.sk-toggleable__label {cursor: pointer;display: block;width: 100%;margin-bottom: 0;padding: 0.3em;box-sizing: border-box;text-align: center;}#sk-container-id-1 label.sk-toggleable__label-arrow:before {content: \"▸\";float: left;margin-right: 0.25em;color: #696969;}#sk-container-id-1 label.sk-toggleable__label-arrow:hover:before {color: black;}#sk-container-id-1 div.sk-estimator:hover label.sk-toggleable__label-arrow:before {color: black;}#sk-container-id-1 div.sk-toggleable__content {max-height: 0;max-width: 0;overflow: hidden;text-align: left;background-color: #f0f8ff;}#sk-container-id-1 div.sk-toggleable__content pre {margin: 0.2em;color: black;border-radius: 0.25em;background-color: #f0f8ff;}#sk-container-id-1 input.sk-toggleable__control:checked~div.sk-toggleable__content {max-height: 200px;max-width: 100%;overflow: auto;}#sk-container-id-1 input.sk-toggleable__control:checked~label.sk-toggleable__label-arrow:before {content: \"▾\";}#sk-container-id-1 div.sk-estimator input.sk-toggleable__control:checked~label.sk-toggleable__label {background-color: #d4ebff;}#sk-container-id-1 div.sk-label input.sk-toggleable__control:checked~label.sk-toggleable__label {background-color: #d4ebff;}#sk-container-id-1 input.sk-hidden--visually {border: 0;clip: rect(1px 1px 1px 1px);clip: rect(1px, 1px, 1px, 1px);height: 1px;margin: -1px;overflow: hidden;padding: 0;position: absolute;width: 1px;}#sk-container-id-1 div.sk-estimator {font-family: monospace;background-color: #f0f8ff;border: 1px dotted black;border-radius: 0.25em;box-sizing: border-box;margin-bottom: 0.5em;}#sk-container-id-1 div.sk-estimator:hover {background-color: #d4ebff;}#sk-container-id-1 div.sk-parallel-item::after {content: \"\";width: 100%;border-bottom: 1px solid gray;flex-grow: 1;}#sk-container-id-1 div.sk-label:hover label.sk-toggleable__label {background-color: #d4ebff;}#sk-container-id-1 div.sk-serial::before {content: \"\";position: absolute;border-left: 1px solid gray;box-sizing: border-box;top: 0;bottom: 0;left: 50%;z-index: 0;}#sk-container-id-1 div.sk-serial {display: flex;flex-direction: column;align-items: center;background-color: white;padding-right: 0.2em;padding-left: 0.2em;position: relative;}#sk-container-id-1 div.sk-item {position: relative;z-index: 1;}#sk-container-id-1 div.sk-parallel {display: flex;align-items: stretch;justify-content: center;background-color: white;position: relative;}#sk-container-id-1 div.sk-item::before, #sk-container-id-1 div.sk-parallel-item::before {content: \"\";position: absolute;border-left: 1px solid gray;box-sizing: border-box;top: 0;bottom: 0;left: 50%;z-index: -1;}#sk-container-id-1 div.sk-parallel-item {display: flex;flex-direction: column;z-index: 1;position: relative;background-color: white;}#sk-container-id-1 div.sk-parallel-item:first-child::after {align-self: flex-end;width: 50%;}#sk-container-id-1 div.sk-parallel-item:last-child::after {align-self: flex-start;width: 50%;}#sk-container-id-1 div.sk-parallel-item:only-child::after {width: 0;}#sk-container-id-1 div.sk-dashed-wrapped {border: 1px dashed gray;margin: 0 0.4em 0.5em 0.4em;box-sizing: border-box;padding-bottom: 0.4em;background-color: white;}#sk-container-id-1 div.sk-label label {font-family: monospace;font-weight: bold;display: inline-block;line-height: 1.2em;}#sk-container-id-1 div.sk-label-container {text-align: center;}#sk-container-id-1 div.sk-container {/* jupyter's `normalize.less` sets `[hidden] { display: none; }` but bootstrap.min.css set `[hidden] { display: none !important; }` so we also need the `!important` here to be able to override the default hidden behavior on the sphinx rendered scikit-learn.org. See: https://github.com/scikit-learn/scikit-learn/issues/21755 */display: inline-block !important;position: relative;}#sk-container-id-1 div.sk-text-repr-fallback {display: none;}</style><div id=\"sk-container-id-1\" class=\"sk-top-container\"><div class=\"sk-text-repr-fallback\"><pre>LogisticRegression(random_state=1)</pre><b>In a Jupyter environment, please rerun this cell to show the HTML representation or trust the notebook. <br />On GitHub, the HTML representation is unable to render, please try loading this page with nbviewer.org.</b></div><div class=\"sk-container\" hidden><div class=\"sk-item\"><div class=\"sk-estimator sk-toggleable\"><input class=\"sk-toggleable__control sk-hidden--visually\" id=\"sk-estimator-id-1\" type=\"checkbox\" checked><label for=\"sk-estimator-id-1\" class=\"sk-toggleable__label sk-toggleable__label-arrow\">LogisticRegression</label><div class=\"sk-toggleable__content\"><pre>LogisticRegression(random_state=1)</pre></div></div></div></div></div>"
      ],
      "text/plain": [
       "LogisticRegression(random_state=1)"
      ]
     },
     "execution_count": 44,
     "metadata": {},
     "output_type": "execute_result"
    }
   ],
   "source": [
    "lr_clf = LogisticRegression(random_state=1)\n",
    "lr_clf.fit(X_train,y_train)"
   ]
  },
  {
   "cell_type": "code",
   "execution_count": 45,
   "metadata": {
    "execution": {
     "iopub.execute_input": "2024-08-10T06:39:53.637427Z",
     "iopub.status.busy": "2024-08-10T06:39:53.636750Z",
     "iopub.status.idle": "2024-08-10T06:39:53.658189Z",
     "shell.execute_reply": "2024-08-10T06:39:53.656414Z",
     "shell.execute_reply.started": "2024-08-10T06:39:53.637376Z"
    },
    "scrolled": true
   },
   "outputs": [
    {
     "name": "stdout",
     "output_type": "stream",
     "text": [
      "[0.89920586 0.88630807 0.90220049 0.89425428 0.90464548]\n",
      "0.8973228354689015\n",
      "0.8907224055738907\n"
     ]
    }
   ],
   "source": [
    "y_lr_pred = lr_clf.predict(X_test)\n",
    "lr_scores = cross_val_score(lr_clf,X_train,y_train,cv=5)\n",
    "print(lr_scores)\n",
    "print(lr_scores.mean())\n",
    "print(accuracy_score(y_test,y_lr_pred))"
   ]
  },
  {
   "cell_type": "markdown",
   "metadata": {},
   "source": [
    "#### Inference :- The model gives 89.7% accuracy on average for the validation datasets using cross validation\n",
    "#### The Logistic Regression model also provides 89% accuracy on test dataset which is not much differnt from its cross validation avereage accuracy. So from this it can be seen that the model works very well it is neither underfitting or overfitting."
   ]
  },
  {
   "cell_type": "markdown",
   "metadata": {},
   "source": [
    "### K-Nearest-Neighbors"
   ]
  },
  {
   "cell_type": "code",
   "execution_count": 46,
   "metadata": {
    "execution": {
     "iopub.execute_input": "2024-08-10T06:39:53.661410Z",
     "iopub.status.busy": "2024-08-10T06:39:53.660267Z",
     "iopub.status.idle": "2024-08-10T06:39:54.642681Z",
     "shell.execute_reply": "2024-08-10T06:39:54.641661Z",
     "shell.execute_reply.started": "2024-08-10T06:39:53.661345Z"
    }
   },
   "outputs": [
    {
     "name": "stdout",
     "output_type": "stream",
     "text": [
      "0.9297145921112179\n",
      "0.9292257439140418\n",
      "0.9273927498719257\n",
      "0.9275145511871707\n",
      "0.9251921861954526\n",
      "[0.93729373 0.93252659 0.93032637 0.93289329 0.93215988]\n",
      "0.933039970663733\n"
     ]
    }
   ],
   "source": [
    "neighbors = [3,5,7,9,11]\n",
    "scores = []\n",
    "for i in neighbors:\n",
    "    knn_clf = KNeighborsClassifier(n_neighbors = i)\n",
    "    knn_clf.fit(X_train,y_train)\n",
    "    knn_scores = cross_val_score(knn_clf,X_train,y_train,cv=5)\n",
    "    print(knn_scores.mean())\n",
    "    knn_predict = knn_clf.predict(X_test)\n",
    "    scores.append(accuracy_score(y_test,knn_predict))\n",
    "    \n",
    "scores = np.array(scores)\n",
    "print(scores)\n",
    "print(scores.mean())"
   ]
  },
  {
   "cell_type": "code",
   "execution_count": 52,
   "metadata": {},
   "outputs": [
    {
     "name": "stdout",
     "output_type": "stream",
     "text": [
      "0.9372937293729373\n"
     ]
    }
   ],
   "source": [
    "knn_clf = KNeighborsClassifier(n_neighbors=3)\n",
    "knn_clf.fit(X_train,y_train)\n",
    "knn_pred = knn_clf.predict(X_test)\n",
    "print(accuracy_score(y_test,knn_pred))"
   ]
  },
  {
   "cell_type": "markdown",
   "metadata": {},
   "source": [
    "#### Inference:- The knn model provides best accuracy for 3 neighbors and this is very similar to the average accuracy obtained through cross validation 93.3%. \n",
    "#### On testing the model on our test set we get the accuracy of 93.7% which is very much similar to 93% and hence our model does not overfit and underfit the dataset"
   ]
  },
  {
   "cell_type": "markdown",
   "metadata": {},
   "source": [
    "### Support Vector Machine"
   ]
  },
  {
   "cell_type": "code",
   "execution_count": 47,
   "metadata": {},
   "outputs": [
    {
     "name": "stdout",
     "output_type": "stream",
     "text": [
      "[0.90103849 0.89364303 0.90158924 0.89731051 0.90831296]\n",
      "0.9003788461509739\n"
     ]
    }
   ],
   "source": [
    "svm_clf = SVC(kernel = 'linear',random_state=1)\n",
    "svm_clf.fit(X_train,y_train)\n",
    "svm_scores = cross_val_score(svm_clf,X_train,y_train,cv=5)\n",
    "print(svm_scores)\n",
    "print(svm_scores.mean())"
   ]
  },
  {
   "cell_type": "code",
   "execution_count": 48,
   "metadata": {},
   "outputs": [
    {
     "name": "stdout",
     "output_type": "stream",
     "text": [
      "0.896956362302897\n"
     ]
    }
   ],
   "source": [
    "svm_pred = svm_clf.predict(X_test)\n",
    "print(accuracy_score(y_test,svm_pred))"
   ]
  },
  {
   "cell_type": "markdown",
   "metadata": {},
   "source": [
    "#### Inference :- The svm classifier gives us an average accuracy of 90% on cross validation and test accuracy of 89.6% which is very close to our average accuracy and hence we can conclude that our model is not overfitting and underfitting."
   ]
  },
  {
   "cell_type": "markdown",
   "metadata": {},
   "source": [
    "### Tensor Flow"
   ]
  },
  {
   "cell_type": "code",
   "execution_count": 50,
   "metadata": {},
   "outputs": [
    {
     "name": "stdout",
     "output_type": "stream",
     "text": [
      "Epoch 1/10\n",
      "\u001b[1m205/205\u001b[0m \u001b[32m━━━━━━━━━━━━━━━━━━━━\u001b[0m\u001b[37m\u001b[0m \u001b[1m2s\u001b[0m 3ms/step - accuracy: 0.7186 - loss: 0.5352 - val_accuracy: 0.9071 - val_loss: 0.2409\n",
      "Epoch 2/10\n",
      "\u001b[1m205/205\u001b[0m \u001b[32m━━━━━━━━━━━━━━━━━━━━\u001b[0m\u001b[37m\u001b[0m \u001b[1m0s\u001b[0m 2ms/step - accuracy: 0.9046 - loss: 0.2295 - val_accuracy: 0.9212 - val_loss: 0.1881\n",
      "Epoch 3/10\n",
      "\u001b[1m205/205\u001b[0m \u001b[32m━━━━━━━━━━━━━━━━━━━━\u001b[0m\u001b[37m\u001b[0m \u001b[1m0s\u001b[0m 2ms/step - accuracy: 0.9215 - loss: 0.1915 - val_accuracy: 0.9279 - val_loss: 0.1650\n",
      "Epoch 4/10\n",
      "\u001b[1m205/205\u001b[0m \u001b[32m━━━━━━━━━━━━━━━━━━━━\u001b[0m\u001b[37m\u001b[0m \u001b[1m0s\u001b[0m 2ms/step - accuracy: 0.9230 - loss: 0.1672 - val_accuracy: 0.9340 - val_loss: 0.1666\n",
      "Epoch 5/10\n",
      "\u001b[1m205/205\u001b[0m \u001b[32m━━━━━━━━━━━━━━━━━━━━\u001b[0m\u001b[37m\u001b[0m \u001b[1m0s\u001b[0m 2ms/step - accuracy: 0.9341 - loss: 0.1481 - val_accuracy: 0.9371 - val_loss: 0.1350\n",
      "Epoch 6/10\n",
      "\u001b[1m205/205\u001b[0m \u001b[32m━━━━━━━━━━━━━━━━━━━━\u001b[0m\u001b[37m\u001b[0m \u001b[1m0s\u001b[0m 2ms/step - accuracy: 0.9427 - loss: 0.1353 - val_accuracy: 0.9462 - val_loss: 0.1357\n",
      "Epoch 7/10\n",
      "\u001b[1m205/205\u001b[0m \u001b[32m━━━━━━━━━━━━━━━━━━━━\u001b[0m\u001b[37m\u001b[0m \u001b[1m0s\u001b[0m 2ms/step - accuracy: 0.9424 - loss: 0.1341 - val_accuracy: 0.9505 - val_loss: 0.1285\n",
      "Epoch 8/10\n",
      "\u001b[1m205/205\u001b[0m \u001b[32m━━━━━━━━━━━━━━━━━━━━\u001b[0m\u001b[37m\u001b[0m \u001b[1m0s\u001b[0m 2ms/step - accuracy: 0.9512 - loss: 0.1186 - val_accuracy: 0.9456 - val_loss: 0.1199\n",
      "Epoch 9/10\n",
      "\u001b[1m205/205\u001b[0m \u001b[32m━━━━━━━━━━━━━━━━━━━━\u001b[0m\u001b[37m\u001b[0m \u001b[1m0s\u001b[0m 2ms/step - accuracy: 0.9521 - loss: 0.1143 - val_accuracy: 0.9542 - val_loss: 0.1115\n",
      "Epoch 10/10\n",
      "\u001b[1m205/205\u001b[0m \u001b[32m━━━━━━━━━━━━━━━━━━━━\u001b[0m\u001b[37m\u001b[0m \u001b[1m0s\u001b[0m 2ms/step - accuracy: 0.9560 - loss: 0.1064 - val_accuracy: 0.9554 - val_loss: 0.1078\n",
      "\u001b[1m86/86\u001b[0m \u001b[32m━━━━━━━━━━━━━━━━━━━━\u001b[0m\u001b[37m\u001b[0m \u001b[1m0s\u001b[0m 1ms/step - accuracy: 0.9566 - loss: 0.1139\n",
      "Test accuracy: 0.9585624933242798\n",
      "\u001b[1m86/86\u001b[0m \u001b[32m━━━━━━━━━━━━━━━━━━━━\u001b[0m\u001b[37m\u001b[0m \u001b[1m0s\u001b[0m 2ms/step\n",
      "Predicted label for the first test case: 0\n"
     ]
    }
   ],
   "source": [
    "model = tf.keras.Sequential([\n",
    "    tf.keras.layers.Input(shape=(8,)),  # Input layer with 9 features\n",
    "    tf.keras.layers.Dense(64, activation='relu'),  # Hidden layer\n",
    "    tf.keras.layers.Dense(32, activation='relu'),  # Another hidden layer\n",
    "    tf.keras.layers.Dense(2, activation='softmax')  # Output layer for binary classification\n",
    "])\n",
    "\n",
    "model.compile(\n",
    "    optimizer='adam',\n",
    "    loss='sparse_categorical_crossentropy',  # For multi-class classification\n",
    "    metrics=['accuracy']\n",
    ")\n",
    "\n",
    "# Train the model\n",
    "model.fit(X_train, y_train, epochs=10, validation_split=0.2)\n",
    "\n",
    "# Evaluate the model\n",
    "test_loss, test_acc = model.evaluate(X_test, y_test)\n",
    "print(f\"Test accuracy: {test_acc}\")\n",
    "\n",
    "# Make predictions\n",
    "predictions = model.predict(X_test)\n",
    "print(f\"Predicted label for the first test case: {tf.argmax(predictions[0])}\")\n"
   ]
  },
  {
   "cell_type": "markdown",
   "metadata": {},
   "source": [
    "#### Inference:- Our model on tensorflow gives an accuracy of 95.6% on training data and 95.8% on test data and there is no major differnce between these two accuracies and hence we can conclude that our model is neither underfitting nor overfitting."
   ]
  },
  {
   "cell_type": "markdown",
   "metadata": {},
   "source": [
    "## The Result :-"
   ]
  },
  {
   "cell_type": "markdown",
   "metadata": {},
   "source": [
    "####      Algorithm Used                   Accuracy\n",
    "\n",
    "####      Logistic Regression             89%\n",
    "####      K-Nearest Neighbors           93%\n",
    "####      Support Vector Machines    89.6%\n",
    "####      Tensor Flow(Softmax)          95.8%"
   ]
  },
  {
   "cell_type": "markdown",
   "metadata": {},
   "source": [
    "### So the model that gives highest accuracy is tensorflow model with accuracy of 95.8% which is good enough for us."
   ]
  },
  {
   "cell_type": "markdown",
   "metadata": {},
   "source": [
    "#### The columns that I come to think of as playing the most important role is the amount column, namedestination, oldOrig, oldDest as they can help us to probably identify if a transaction is fraudulent or not. "
   ]
  },
  {
   "cell_type": "markdown",
   "metadata": {},
   "source": [
    "#### Also I have realised that transactions that happen can be checked for fraud by making use of the users previous transaction records, there frequency, the nameDest. Based on these factors one can prevent fraud transactions even if the fraud people go in round - round manner."
   ]
  },
  {
   "cell_type": "code",
   "execution_count": null,
   "metadata": {},
   "outputs": [],
   "source": []
  }
 ],
 "metadata": {
  "kaggle": {
   "accelerator": "none",
   "dataSources": [
    {
     "datasetId": 5522997,
     "sourceId": 9144211,
     "sourceType": "datasetVersion"
    },
    {
     "datasetId": 1069,
     "sourceId": 1940,
     "sourceType": "datasetVersion"
    }
   ],
   "dockerImageVersionId": 30746,
   "isGpuEnabled": false,
   "isInternetEnabled": true,
   "language": "python",
   "sourceType": "notebook"
  },
  "kernelspec": {
   "display_name": "Python 3 (ipykernel)",
   "language": "python",
   "name": "python3"
  },
  "language_info": {
   "codemirror_mode": {
    "name": "ipython",
    "version": 3
   },
   "file_extension": ".py",
   "mimetype": "text/x-python",
   "name": "python",
   "nbconvert_exporter": "python",
   "pygments_lexer": "ipython3",
   "version": "3.11.4"
  }
 },
 "nbformat": 4,
 "nbformat_minor": 4
}
